{
  "nbformat": 4,
  "nbformat_minor": 0,
  "metadata": {
    "colab": {
      "name": "ex08.ipynb",
      "provenance": []
    },
    "kernelspec": {
      "name": "python3",
      "display_name": "Python 3"
    },
    "language_info": {
      "name": "python"
    }
  },
  "cells": [
    {
      "cell_type": "code",
      "execution_count": 2,
      "metadata": {
        "id": "MysOKoNQ8im9"
      },
      "outputs": [],
      "source": [
        "import numpy as np\n",
        "import pandas as pd\n",
        "from sklearn.model_selection import train_test_split\n",
        "from sklearn.model_selection import KFold\n",
        "from sklearn.model_selection import RandomizedSearchCV\n",
        "from sklearn.datasets import fetch_openml\n",
        "from sklearn.neural_network import MLPClassifier\n",
        "from sklearn.metrics import accuracy_score\n",
        "\n"
      ]
    },
    {
      "cell_type": "code",
      "source": [
        "matX, matY = fetch_openml('mnist_784', return_X_y = True, version = 1)\n",
        "\n",
        "train_x, test_x, train_y, test_y = train_test_split(matX, matY, random_state = 3116, train_size = 0.3, test_size  = 0.2)"
      ],
      "metadata": {
        "id": "BRHb-tb08n97"
      },
      "execution_count": 12,
      "outputs": []
    },
    {
      "cell_type": "code",
      "source": [
        "\n",
        "mlp = MLPClassifier(learning_rate_init = 0.5, max_iter = 100, random_state = 3116)\n",
        "\n",
        "rscv = RandomizedSearchCV(cv = 5, estimator = mlp, scoring = 'accuracy', n_iter = 30, n_jobs = -1, \n",
        "                          param_distributions =  {\n",
        "                              'batch_size' : [32, 64, 128],\n",
        "                              'learning_rate': [\"constant\", \"invscaling\", \"adaptive\"],\n",
        "                              \"learning_rate_init\": list(np.arange(0.0001, 0.1, 0.0001)),\n",
        "                              \"solver\": [\"lbfgs\", \"sgd\", \"adam\"], \n",
        "                              'hidden_layer_sizes': [25, 50, 100],\n",
        "                              'alpha': list(np.arange(0, 1, 1e-3)),\n",
        "                              \"activation\": [\"identity\", \"logistic\", \"tanh\", \"relu\"]\n",
        "                          }) # k = 5\n",
        "\n",
        "rscv.fit(train_x, train_y)\n",
        "\n"
      ],
      "metadata": {
        "colab": {
          "base_uri": "https://localhost:8080/"
        },
        "id": "bswUGDds9GdT",
        "outputId": "7966c56b-36ff-4254-cb25-6feaaf35322f"
      },
      "execution_count": 18,
      "outputs": [
        {
          "output_type": "execute_result",
          "data": {
            "text/plain": [
              "RandomizedSearchCV(cv=5,\n",
              "                   estimator=MLPClassifier(learning_rate_init=0.5, max_iter=100,\n",
              "                                           random_state=3116),\n",
              "                   n_iter=30, n_jobs=-1,\n",
              "                   param_distributions={'activation': ['identity', 'logistic',\n",
              "                                                       'tanh', 'relu'],\n",
              "                                        'alpha': [0.0, 0.001, 0.002, 0.003,\n",
              "                                                  0.004, 0.005, 0.006, 0.007,\n",
              "                                                  0.008, 0.009000000000000001,\n",
              "                                                  0.01, 0.011, 0.012,\n",
              "                                                  0.013000000000000001, 0.014,\n",
              "                                                  0.015, 0.016, 0.017,\n",
              "                                                  0.018000000...\n",
              "                                                               0.0006000000000000001,\n",
              "                                                               0.0007000000000000001,\n",
              "                                                               0.0008,\n",
              "                                                               0.0009000000000000001,\n",
              "                                                               0.001, 0.0011,\n",
              "                                                               0.0012000000000000001,\n",
              "                                                               0.0013000000000000002,\n",
              "                                                               0.0014000000000000002,\n",
              "                                                               0.0015, 0.0016,\n",
              "                                                               0.0017000000000000001,\n",
              "                                                               0.0018000000000000002,\n",
              "                                                               0.0019000000000000002,\n",
              "                                                               0.002, 0.0021,\n",
              "                                                               0.0022, 0.0023,\n",
              "                                                               0.0024, 0.0025,\n",
              "                                                               0.0026, 0.0027,\n",
              "                                                               0.0028, 0.0029,\n",
              "                                                               0.003, ...],\n",
              "                                        'solver': ['lbfgs', 'sgd', 'adam']},\n",
              "                   scoring='accuracy')"
            ]
          },
          "metadata": {},
          "execution_count": 18
        }
      ]
    },
    {
      "cell_type": "code",
      "source": [
        "print('Best hyper params: ', rscv.best_params_)\n",
        "print(\"Test Accuracy with best hyper-params: : \", accuracy_score(test_y, rscv.predict(test_x)))"
      ],
      "metadata": {
        "colab": {
          "base_uri": "https://localhost:8080/"
        },
        "id": "Qu_qEo_d9Gn2",
        "outputId": "a38fa0a8-9431-461b-aacd-c7c85b065508"
      },
      "execution_count": 19,
      "outputs": [
        {
          "output_type": "stream",
          "name": "stdout",
          "text": [
            "Best hyper params:  {'solver': 'sgd', 'learning_rate_init': 0.0022, 'learning_rate': 'constant', 'hidden_layer_sizes': 100, 'batch_size': 64, 'alpha': 0.707, 'activation': 'logistic'}\n",
            "Test Accuracy with best hyper-params: :  0.9299285714285714\n"
          ]
        }
      ]
    },
    {
      "cell_type": "code",
      "source": [
        ""
      ],
      "metadata": {
        "id": "O5pvB5Fq8oB5"
      },
      "execution_count": null,
      "outputs": []
    },
    {
      "cell_type": "code",
      "source": [
        ""
      ],
      "metadata": {
        "id": "LDFZIm9F8oS_"
      },
      "execution_count": null,
      "outputs": []
    },
    {
      "cell_type": "code",
      "source": [
        ""
      ],
      "metadata": {
        "id": "XOEMUa3S8oXR"
      },
      "execution_count": null,
      "outputs": []
    }
  ]
}