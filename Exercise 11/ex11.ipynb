{
 "cells": [
  {
   "cell_type": "markdown",
   "id": "8b5776d1",
   "metadata": {},
   "source": [
    "## Exercise 0"
   ]
  },
  {
   "cell_type": "code",
   "execution_count": 3,
   "id": "80090358",
   "metadata": {},
   "outputs": [],
   "source": [
    "import numpy as np\n",
    "import pandas as pd\n",
    "import math\n",
    "import matplotlib.pyplot as plt\n",
    "from nltk.corpus import stopwords\n",
    "from sklearn.datasets import fetch_20newsgroups\n",
    "\n",
    "df_news_grp_u = []\n",
    "df_news_grp = fetch_20newsgroups(categories = ['comp.graphics', 'sci.med'], subset = 'all', shuffle = True, random_state = 3116)\n",
    "\n",
    "for i in df_news_grp.data:\n",
    "    out = \"\"\n",
    "    for j in i:\n",
    "        if j.isalpha() or j.isnumeric() or j == \" \" or j == \"\\n\":\n",
    "            out = out + j \n",
    "        else:\n",
    "            out = out + \" \"\n",
    "    tmp = out.split()\n",
    "    tmp2 = \"\"\n",
    "    for s in tmp:\n",
    "        if s not in set(stopwords.words('english')):\n",
    "            tmp2 = tmp2 + s + \" \"\n",
    "    df_news_grp_u.append(tmp2)"
   ]
  },
  {
   "cell_type": "code",
   "execution_count": 21,
   "id": "4ee35246",
   "metadata": {},
   "outputs": [],
   "source": [
    "w_dict = []\n",
    "corps = \"\"\n",
    "for i in df_news_grp_u:\n",
    "    corps = corps + i + \" \"\n",
    "w_dict = np.array(list(set(corps.split())))\n",
    "\n",
    "matX = np.zeros((len(df_news_grp_u), len(w_dict)))\n",
    "for k, v in enumerate(df_news_grp_u):\n",
    "    tmp = list(v.split())\n",
    "    val, cnts = np.unique(tmp, return_counts = True) \n",
    "    for t in val:\n",
    "        matX[k, w_dict == t] = cnts[val == t]"
   ]
  },
  {
   "cell_type": "code",
   "execution_count": 22,
   "id": "4743d2f5",
   "metadata": {},
   "outputs": [],
   "source": [
    "matTF = np.zeros(matX.shape)\n",
    "for i in range(matTF.shape[0]):\n",
    "    matTF[i, :] = matX[i, :] / np.sum(matX[i, :])\n",
    "\n",
    "matIDF = np.zeros(matX.shape)\n",
    "for i in range(matIDF.shape[1]):\n",
    "    matIDF[:, i] = np.log(len(matX[:, i]) / np.count_nonzero(matX[:, i]))\n",
    "\n",
    "mat_Tf_Idf = matTF * matIDF"
   ]
  },
  {
   "cell_type": "code",
   "execution_count": 23,
   "id": "8fefa457",
   "metadata": {},
   "outputs": [],
   "source": [
    "def ttv_split(matX, matY, div):    \n",
    "    train_x, train_y = matX[:math.ceil(div[0] * rows), :], matY[:math.ceil(div[0] * rows)]\n",
    "    val_x, val_y = matX[math.ceil(div[0] * rows):math.ceil(div[1] * rows), :], matY[math.ceil(div[0] * rows):math.ceil(div[1] * rows)]\n",
    "    test_x, test_y = matX[math.ceil(div[1] * rows):, :], matY[math.ceil(div[1] * rows):]\n",
    "    \n",
    "    return train_x, train_y, val_x, val_y, test_x, test_y\n",
    "\n",
    "myList = [matX, mat_Tf_Idf]   \n",
    "rows, cols = matX.shape\n",
    "div = [0.8, 0.9]\n",
    "c_name = ['BOW Approach', 'TFIDF Approach']\n",
    "splt = {}\n",
    "\n",
    "for valX, val in enumerate(myList):    \n",
    "    train_x, train_y, val_x, val_y, test_x, test_y = ttv_split(val, df_news_grp.target, div)\n",
    "    splt[c_name[valX]] = [train_x, train_y, val_x, val_y, test_x, test_y]\n"
   ]
  },
  {
   "cell_type": "markdown",
   "id": "e8b5f14a",
   "metadata": {},
   "source": [
    "## Exercise 1"
   ]
  },
  {
   "cell_type": "code",
   "execution_count": 24,
   "id": "d778f756",
   "metadata": {},
   "outputs": [
    {
     "name": "stdout",
     "output_type": "stream",
     "text": [
      "BOW Approach\n",
      "Val accuracy :  43.87755102040816\n",
      "Test accuracy :  54.59183673469388\n",
      "TFIDF Approach\n",
      "Val accuracy :  43.87755102040816\n",
      "Test accuracy :  54.59183673469388\n"
     ]
    }
   ],
   "source": [
    "\n",
    "def prediction(v, i_prob, n_class, l_prob):\n",
    "    p_prob = []\n",
    "    for u, v in enumerate(n_class):\n",
    "        pr = np.log(i_prob[u])\n",
    "        p_prob.append(np.sum(np.log(l_prob[u, :]) * v) + pr) \n",
    "    return n_class[np.argmax(p_prob)] \n",
    "\n",
    "for key, val in splt.items():\n",
    "    train_x, train_y, val_x, val_y, test_x, test_y = val\n",
    "    r, c = train_x.shape\n",
    "    n_class = np.unique(train_y) \n",
    "    num_class = len(n_class) \n",
    "    print(key)\n",
    "\n",
    "    i_prob = np.zeros(num_class)\n",
    "    l_prob = np.zeros((num_class, c))\n",
    "\n",
    "    for u, v in enumerate(n_class):\n",
    "        x_cls = train_x[v == train_y]\n",
    "        i_prob[u] = x_cls.shape[0] / r \n",
    "        l_prob[u, :] = (x_cls.sum(axis = 0) + 1) / (np.sum(x_cls.sum(axis = 0) + 1))\n",
    "    pred = np.zeros(val_x.shape[0])\n",
    "\n",
    "    for u, v in enumerate(val_x):\n",
    "        pred[u] = prediction(v, i_prob, n_class, l_prob)\n",
    "    val_pred = pred\n",
    "\n",
    "    val_a = np.sum(val_pred == val_y) / len(val_y)\n",
    "    print('Val accuracy : ', val_a * 100)\n",
    "\n",
    "    pred2 = np.zeros(test_x.shape[0])\n",
    "    for u, v in enumerate(test_x):\n",
    "        pred2[u] = prediction(v, i_prob, n_class, l_prob)\n",
    "\n",
    "    test_pred = pred2\n",
    "\n",
    "    test_a = np.sum(test_pred == test_y) / len(test_y)\n",
    "    print('Test accuracy : ', test_a * 100)\n",
    "    \n"
   ]
  },
  {
   "cell_type": "markdown",
   "id": "af2cccce",
   "metadata": {},
   "source": [
    "## Exercise 2"
   ]
  },
  {
   "cell_type": "code",
   "execution_count": 28,
   "id": "9d3d43c3",
   "metadata": {},
   "outputs": [
    {
     "name": "stdout",
     "output_type": "stream",
     "text": [
      "BOW Approach\n",
      "RSCV 3-fold\n",
      "Optimal params:  {'kernel': 'linear', 'gamma': 'scale', 'degree': 2, 'C': 1.0}\n",
      "Test accuracy:  87.24489795918367\n",
      "TFIDF Approach\n",
      "RSCV 3-fold\n",
      "Optimal params:  {'kernel': 'rbf', 'gamma': 'scale', 'degree': 1, 'C': 1.4}\n",
      "Test accuracy:  94.89795918367348\n",
      "Wall time: 6min 42s\n"
     ]
    }
   ],
   "source": [
    "\n",
    "from sklearn.svm import SVC\n",
    "from sklearn.model_selection import RandomizedSearchCV\n",
    "import warnings\n",
    "warnings.filterwarnings('ignore')\n",
    "\n",
    "h_param = {\n",
    "    \"C\": [1., 1.2, 1.4],\n",
    "    \"kernel\": ['poly', 'rbf', 'linear', 'sigmoid'],     \n",
    "    \"degree\": [1, 2, 3],\n",
    "    \"gamma\": ['scale']\n",
    "}\n",
    "\n",
    "for valX, val in enumerate(myList):\n",
    "    if valX == 0:\n",
    "        print('BOW Approach')\n",
    "    else:\n",
    "        print('TFIDF Approach')\n",
    "        \n",
    "    train_x, train_y, test_x, test_y, val_x, val_y = ttv_split(val, df_news_grp.target, [0.9, 1])\n",
    "    svm = SVC(tol = 0.01, max_iter = 100)\n",
    "    \n",
    "    print(\"RSCV 3-fold\")\n",
    "    rscv = RandomizedSearchCV(svm, h_param, cv = 3, random_state = 3116)\n",
    "    rscv_m = rscv.fit(train_x, train_y)\n",
    "\n",
    "    opt_p = rscv_m.best_params_\n",
    "    print('Optimal params: ', opt_p)\n",
    "\n",
    "    test_pred = rscv_m.predict(test_x)\n",
    "    test_accu = np.sum(test_pred == test_y) / len(test_y)\n",
    "    print('Test accuracy: ', test_accu * 100)\n"
   ]
  },
  {
   "cell_type": "code",
   "execution_count": null,
   "id": "bf42a3ce",
   "metadata": {},
   "outputs": [],
   "source": []
  },
  {
   "cell_type": "code",
   "execution_count": null,
   "id": "36565940",
   "metadata": {},
   "outputs": [],
   "source": []
  },
  {
   "cell_type": "code",
   "execution_count": null,
   "id": "0198a500",
   "metadata": {},
   "outputs": [],
   "source": []
  },
  {
   "cell_type": "code",
   "execution_count": null,
   "id": "26b45d0a",
   "metadata": {},
   "outputs": [],
   "source": []
  },
  {
   "cell_type": "code",
   "execution_count": null,
   "id": "108eec81",
   "metadata": {},
   "outputs": [],
   "source": []
  }
 ],
 "metadata": {
  "kernelspec": {
   "display_name": "Python 3",
   "language": "python",
   "name": "python3"
  },
  "language_info": {
   "codemirror_mode": {
    "name": "ipython",
    "version": 3
   },
   "file_extension": ".py",
   "mimetype": "text/x-python",
   "name": "python",
   "nbconvert_exporter": "python",
   "pygments_lexer": "ipython3",
   "version": "3.8.8"
  }
 },
 "nbformat": 4,
 "nbformat_minor": 5
}
