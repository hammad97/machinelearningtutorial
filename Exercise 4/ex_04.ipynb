{
 "cells": [
  {
   "cell_type": "markdown",
   "id": "020312a4",
   "metadata": {},
   "source": [
    "## Exercise 0 :"
   ]
  },
  {
   "cell_type": "code",
   "execution_count": 161,
   "id": "3d18bebe",
   "metadata": {},
   "outputs": [
    {
     "data": {
      "text/plain": [
       "1    625\n",
       "0    332\n",
       "Name: Class, dtype: int64"
      ]
     },
     "execution_count": 161,
     "metadata": {},
     "output_type": "execute_result"
    }
   ],
   "source": [
    "import pandas as pd\n",
    "import numpy as np\n",
    "\n",
    "cols = (\"top-left-square\",\"top-middle-square\",\"top-right-square\",\"middle-left-square\",\"middle-middle-square\",\n",
    "           \"middle-right-square\",\"bottom-left-square\",\"bottom-middle-square\",\"bottom-right-square\", \"Class\")\n",
    "\n",
    "ttt_df = pd.read_csv(\"tic-tac-toe.data\")\n",
    "\n",
    "#1.\n",
    "ttt_df.positive = ttt_df.positive.map({'positive': 1, 'negative': 0})\n",
    "\n",
    "ttt_df.columns = cols\n",
    "df_updated = pd.get_dummies(ttt_df)\n",
    "\n",
    "\n",
    "ttt_df.Class.value_counts()"
   ]
  },
  {
   "cell_type": "code",
   "execution_count": 97,
   "id": "f773ec69",
   "metadata": {},
   "outputs": [
    {
     "data": {
      "text/plain": [
       "0    332\n",
       "1    332\n",
       "Name: Class, dtype: int64"
      ]
     },
     "execution_count": 97,
     "metadata": {},
     "output_type": "execute_result"
    }
   ],
   "source": [
    "#2.\n",
    "n = min(332, df_updated.Class.value_counts().min())\n",
    "df_stratified = df_updated.groupby('Class').apply(lambda x: x.sample(n))\n",
    "df_stratified.index = df_stratified.index.droplevel(0)\n",
    "\n",
    "df_stratified.Class.value_counts()\n",
    "# df_updated.Class.value_counts()"
   ]
  },
  {
   "cell_type": "code",
   "execution_count": 93,
   "id": "9de3ccf9",
   "metadata": {},
   "outputs": [],
   "source": [
    "#3.\n",
    "df_train = df_stratified.sample(random_state = 3116, frac = 0.8)\n",
    "df_test = df_stratified.drop(df_train.index)\n"
   ]
  },
  {
   "cell_type": "markdown",
   "id": "fdeef4de",
   "metadata": {},
   "source": [
    "## Exercise 1:"
   ]
  },
  {
   "cell_type": "code",
   "execution_count": 162,
   "id": "ae2cd429",
   "metadata": {},
   "outputs": [],
   "source": [
    "def learn_logreg_GA(train, test, mu, mup, mum, n, e):\n",
    "    x_test = test[:, 1:np.shape(test)[1]]\n",
    "    y_test = test[:, 0].reshape(np.shape(test)[0], 1)\n",
    "    log_ls = []\n",
    "    log_lh = []\n",
    "    fx = []\n",
    "    betas = np.zeros((np.shape(train)[1] - 1, 1))\n",
    "    for i in range(0, n):\n",
    "        np.random.shuffle(train)\n",
    "        x_train = train[:, 1:np.shape(train)[1]]\n",
    "        y_train = train[:, 0].reshape(np.shape(train)[0], 1)\n",
    "        temp = betas\n",
    "        for k in range(0, np.shape(x_train)[0]):\n",
    "            res = mu * d_loglikelihood(x_train[k,:].reshape(1, -1), y_train[k,:], betas)\n",
    "            betas = betas + res\n",
    "        mu = bold_driver(x_train, y_train, betas, temp, mu, mup, mum)\n",
    "        log_lh.append(loglike_func(x_train, y_train, betas))  \n",
    "        log_ls.append(log_loss(x_test, y_test, betas))\n",
    "        if i > 0:\n",
    "            fx.append(abs(log_lh[i-1] - log_lh[i]))\n",
    "            if abs(log_lh[i] - log_lh[i-1]) < e:\n",
    "                break\n",
    "    return fx, log_ls\n",
    "\n",
    "def bold_driver(x_train, y_train, betas, temp, mu, mup, mum):\n",
    "    if log_loss(x_train, y_train, betas) > log_loss(x_train, y_train, temp):\n",
    "        mu = mu * mup\n",
    "    else:\n",
    "        mu = mu * mum\n",
    "    return mu\n",
    "\n",
    "def loglike_func(x_train, y_train, betas):\n",
    "    return np.sum(y_train * (x_train @ betas) - np.log(1 + np.exp(x_train @ betas)))\n",
    "\n",
    "def d_loglikelihood(x_train, y_train, betas):\n",
    "    return x_train.T @ (y_train - (1 / (1 + np.exp((-x_train) @ betas))))\n",
    "\n",
    "def dd_loglikelihood(x_train, betas):\n",
    "    temp = np.diag(((1 / (1 + np.exp((-x_train) @ betas))) *\n",
    "                    (1 - (1 / (1 + np.exp((-x_train) @ betas))))).flatten())\n",
    "    return x_train.T @ temp @ x_train\n",
    "\n",
    "def log_loss(x_train, y_train, betas):\n",
    "    return -1 * np.asscalar(y_train.T @ np.log(1 / (1 + np.exp((-x_train) @ betas))) + \n",
    "                              (1 - y_train).T @ np.log(1 - 1 / (1 + np.exp((-x_train) @ betas))))\n"
   ]
  },
  {
   "cell_type": "code",
   "execution_count": 163,
   "id": "5fb99cfb",
   "metadata": {},
   "outputs": [
    {
     "name": "stderr",
     "output_type": "stream",
     "text": [
      "<ipython-input-162-10648ac83de9>:44: DeprecationWarning: np.asscalar(a) is deprecated since NumPy v1.16, use a.item() instead\n",
      "  return -1 * np.asscalar(y_train.T @ np.log(1 / (1 + np.exp((-x_train) @ betas))) +\n"
     ]
    },
    {
     "name": "stdout",
     "output_type": "stream",
     "text": [
      "Converged in  191  Iterations\n"
     ]
    },
    {
     "data": {
      "image/png": "[encoded data removed]",
      "text/plain": [
       "<Figure size 1080x504 with 2 Axes>"
      ]
     },
     "metadata": {
      "needs_background": "light"
     },
     "output_type": "display_data"
    }
   ],
   "source": [
    "import matplotlib.pyplot as plt\n",
    "\n",
    "train = df_train.to_numpy()\n",
    "test = df_test.to_numpy()\n",
    "\n",
    "mu, mup, mum, imax, e = 0.15, 1.1, 0.9, 300, 1e-8\n",
    "fx, log_ls = learn_logreg_GA(train, test, mu, mup, mum, imax, e)\n",
    "if len(fx) < imax:\n",
    "    print('Converged in ', len(fx), ' Iterations')\n",
    "    \n",
    "plt.figure(figsize=(15, 7))\n",
    "\n",
    "plt.subplot(1, 2, 1)\n",
    "plt.plot(np.arange(len(fx)), fx)\n",
    "plt.xlabel('Iterations')\n",
    "plt.ylabel('f(xi-1) - f(x_i)')\n",
    "plt.title('f(xi-1) - f(xi)')\n",
    "\n",
    "plt.subplot(1, 2, 2)\n",
    "plt.plot(np.arange(len(log_ls)), log_ls)\n",
    "plt.xlabel('Iterations')\n",
    "plt.ylabel('Log_loss')\n",
    "plt.title('Logloss Result')\n",
    "\n",
    "plt.show()\n"
   ]
  },
  {
   "cell_type": "markdown",
   "id": "fb7d9087",
   "metadata": {},
   "source": [
    "## Exercise 2:"
   ]
  },
  {
   "cell_type": "code",
   "execution_count": 155,
   "id": "df2f71cc",
   "metadata": {},
   "outputs": [],
   "source": [
    "def minimize_Newton(x_train, y_train, x_test, y_test, betas, mu, n, e):\n",
    "    loss_lh = []\n",
    "    loss_ls = []\n",
    "    fx = []\n",
    "    for i in range(0, n):\n",
    "        d1 = d_loglikelihood(x_train, y_train, betas)\n",
    "        d2 = dd_loglikelihood(x_train, betas)\n",
    "\n",
    "        betas = betas + (mu * (np.linalg.pinv(d2) @ d1))\n",
    "\n",
    "        loss_lh.append(loglike_func(x_train, y_train, betas))  \n",
    "        loss_ls.append(log_loss(x_test, y_test, betas))\n",
    "        if i > 0:\n",
    "            fx.append(abs(loss_lh[i - 1] - loss_lh[i]))\n",
    "            if abs(loss_lh[i] - loss_lh[i - 1]) < e:\n",
    "                break\n",
    "    return betas, fx, loss_ls\n",
    "\n",
    "def learn_logreg_Newton(train, test, mu, n, e):\n",
    "    x_train = train[:, 1:np.shape(train)[1]]\n",
    "    betas = np.zeros((np.shape(x_train)[1], 1))\n",
    "    y_train = train[:, 0].reshape(np.shape(train)[0], 1)\n",
    "    x_test = test[:, 1:np.shape(test)[1]]\n",
    "    y_test = test[:, 0].reshape(np.shape(test)[0], 1)\n",
    "    \n",
    "    betas, fx, loss_ls = minimize_Newton(x_train, y_train, x_test, y_test, betas, mu, n, e)\n",
    "    return betas, fx, loss_ls"
   ]
  },
  {
   "cell_type": "code",
   "execution_count": 157,
   "id": "85c825b8",
   "metadata": {},
   "outputs": [
    {
     "name": "stderr",
     "output_type": "stream",
     "text": [
      "<ipython-input-140-5805d1d8d9f3>:46: DeprecationWarning: np.asscalar(a) is deprecated since NumPy v1.16, use a.item() instead\n",
      "  return -1 * np.asscalar(y_train.T @ np.log(1 / (1 + np.exp((-x_train) @ betas))) +\n",
      "<ipython-input-140-5805d1d8d9f3>:47: RuntimeWarning: divide by zero encountered in log\n",
      "  (1 - y_train).T @ np.log(1 - 1 / (1 + np.exp((-x_train) @ betas))))\n",
      "<ipython-input-140-5805d1d8d9f3>:47: RuntimeWarning: invalid value encountered in matmul\n",
      "  (1 - y_train).T @ np.log(1 - 1 / (1 + np.exp((-x_train) @ betas))))\n"
     ]
    },
    {
     "name": "stdout",
     "output_type": "stream",
     "text": [
      "Converged in 149  Iterations\n"
     ]
    },
    {
     "data": {
      "image/png": "[encoded data removed]",
      "text/plain": [
       "<Figure size 1080x504 with 2 Axes>"
      ]
     },
     "metadata": {
      "needs_background": "light"
     },
     "output_type": "display_data"
    }
   ],
   "source": [
    "mu, imax, e = 0.15, 160, 1e-8\n",
    "\n",
    "Betas, fx, loss_ls = learn_logreg_Newton(train, test, mu, imax, e)\n",
    "if len(fx) < imax - 1:\n",
    "    print('Converged in', len(fx), ' Iterations')\n",
    "    \n",
    "plt.figure(figsize=(15, 7))\n",
    "\n",
    "plt.subplot(1, 2, 1)\n",
    "plt.plot(np.arange(len(fx)), fx)\n",
    "plt.xlabel('Iterations')\n",
    "plt.ylabel('f(xi-1) - f(xi)')\n",
    "plt.title('f(xi-1) - f(xi)')\n",
    "\n",
    "plt.subplot(1, 2, 2)\n",
    "plt.plot(np.arange(len(loss_ls)), loss_ls)\n",
    "plt.xlabel('Iterations')\n",
    "plt.ylabel('Log_loss')\n",
    "plt.title('Logloss Results')\n",
    "\n",
    "plt.show()\n"
   ]
  }
 ],
 "metadata": {
  "kernelspec": {
   "display_name": "Python 3",
   "language": "python",
   "name": "python3"
  },
  "language_info": {
   "codemirror_mode": {
    "name": "ipython",
    "version": 3
   },
   "file_extension": ".py",
   "mimetype": "text/x-python",
   "name": "python",
   "nbconvert_exporter": "python",
   "pygments_lexer": "ipython3",
   "version": "3.8.8"
  }
 },
 "nbformat": 4,
 "nbformat_minor": 5
}
