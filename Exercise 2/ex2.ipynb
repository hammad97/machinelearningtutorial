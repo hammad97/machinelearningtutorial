{
 "cells": [
  {
   "cell_type": "markdown",
   "id": "598fdae1",
   "metadata": {},
   "source": [
    "Part A:"
   ]
  },
  {
   "cell_type": "code",
   "execution_count": 82,
   "id": "5e5a22b3",
   "metadata": {},
   "outputs": [
    {
     "name": "stdout",
     "output_type": "stream",
     "text": [
      "(100, 10)\n",
      "(100, 1)\n"
     ]
    }
   ],
   "source": [
    "import matplotlib.pyplot as plt\n",
    "import numpy as np\n",
    "\n",
    "# 1. \n",
    "matX = np.random.normal(2, 0.01, (100, 10))\n",
    "# matX = np.append(np.ones((100,1)), matX, axis = 1)\n",
    "\n",
    "# 2.\n",
    "matY = np.random.uniform(2, 1, (100, 1))\n",
    "\n",
    "print(matX.shape)\n",
    "print(matY.shape)"
   ]
  },
  {
   "cell_type": "code",
   "execution_count": 84,
   "id": "fae6d128",
   "metadata": {},
   "outputs": [
    {
     "data": {
      "text/plain": [
       "array([ 1.22839952e-04,  7.36559140e-01, -1.56445690e-04,  4.55184900e-04,\n",
       "       -4.53209062e-04,  2.92138803e-04, -1.91242319e-05, -1.67496364e-04,\n",
       "        7.60237436e-05,  1.72020525e-05])"
      ]
     },
     "execution_count": 84,
     "metadata": {},
     "output_type": "execute_result"
    }
   ],
   "source": [
    "#3.\n",
    "matB = np.matmul(matX.T, matY)\n",
    "matA = np.matmul(matX.T, matX)\n",
    "\n",
    "#4.\n",
    "#Gaussian Elimination\n",
    "n = len(matA)\n",
    "for k in range(1, n-1):\n",
    "    for i in range(k+1, n):\n",
    "        matA[i,k] = matA[i,k] / matA[k,k]\n",
    "        for j in range(k+1, n):\n",
    "            matA[i,j] = matA[i,j] - matA[i,k] * matX[k,j]\n",
    "\n",
    "\n",
    "#Forward Elimination\n",
    "for k in range(1,n-1):\n",
    "    for i in range(k+1, n):\n",
    "        matB[i] = matB[i] - matA[i,k] * matB[k]\n",
    "\n",
    "\n",
    "#Backward Solve\n",
    "res = np.zeros(n)\n",
    "\n",
    "for i in range(n-1,-1,-1):\n",
    "    summ = matB[i]\n",
    "    for j in range(i+1, n):\n",
    "        summ = summ - matA[i,j]*res[j]\n",
    "    res[i] = summ / matA[i,i]\n",
    "    \n",
    "res"
   ]
  },
  {
   "cell_type": "code",
   "execution_count": 87,
   "id": "2e8d8860",
   "metadata": {},
   "outputs": [],
   "source": [
    "#5.\n",
    "matPredY = np.matmul(matX, res)\n"
   ]
  },
  {
   "cell_type": "code",
   "execution_count": 88,
   "id": "fb34d5e2",
   "metadata": {},
   "outputs": [
    {
     "data": {
      "image/png": "[encoded data removed]",
      "text/plain": [
       "<Figure size 432x288 with 1 Axes>"
      ]
     },
     "metadata": {
      "needs_background": "light"
     },
     "output_type": "display_data"
    }
   ],
   "source": [
    "# 6.\n",
    "plt.scatter(matY, matPredY)\n",
    "plt.xlabel(\"Original Y\", size = 10)\n",
    "plt.ylabel(\"Predicted Y\", size = 10)\n",
    "plt.title(\"Original vs Predicted Matrix Y\", size = 12)\n",
    "plt.show()"
   ]
  },
  {
   "cell_type": "code",
   "execution_count": 152,
   "id": "38629d28",
   "metadata": {},
   "outputs": [
    {
     "data": {
      "image/png": "[encoded data removed]",
      "text/plain": [
       "<Figure size 432x288 with 1 Axes>"
      ]
     },
     "metadata": {
      "needs_background": "light"
     },
     "output_type": "display_data"
    }
   ],
   "source": [
    "#7.\n",
    "matBetaAuto = np.linalg.lstsq(matX, matY, rcond = None)[0]\n",
    "matPredYAuto = np.matmul(matX, matBetaAuto)\n",
    "\n",
    "plt.scatter(matY, matPredYAuto)\n",
    "plt.xlabel(\"Original Y\", size = 10)\n",
    "plt.ylabel(\"Numpy Predicted Y\", size = 10)\n",
    "plt.title(\"Original vs Numpy Predicted Matrix Y\", size = 12)\n",
    "plt.show()"
   ]
  },
  {
   "cell_type": "markdown",
   "id": "ad492d0b",
   "metadata": {},
   "source": [
    "Part B:"
   ]
  },
  {
   "cell_type": "code",
   "execution_count": 153,
   "id": "b749b114",
   "metadata": {},
   "outputs": [
    {
     "name": "stderr",
     "output_type": "stream",
     "text": [
      "C:\\Anaconda3\\lib\\site-packages\\IPython\\core\\interactiveshell.py:3165: DtypeWarning: Columns (7) have mixed types.Specify dtype option on import or set low_memory=False.\n",
      "  has_raised = await self.run_ast_nodes(code_ast.body, cell_name,\n"
     ]
    },
    {
     "data": {
      "text/plain": [
       "1115"
      ]
     },
     "execution_count": 153,
     "metadata": {},
     "output_type": "execute_result"
    }
   ],
   "source": [
    "import pandas as pd\n",
    "from numpy.linalg import inv\n",
    "\n",
    "#a.\n",
    "df_train = pd.read_csv(\"train.csv\")\n",
    "df_store = pd.read_csv(\"store.csv\")\n",
    "\n",
    "df_merged = df_train.merge(df_store, how = 'inner', on = 'Store')\n",
    "\n",
    "df_sorted = df_merged.sort_values('Date', ascending = True)\n",
    "\n",
    "len(df_store)"
   ]
  },
  {
   "cell_type": "code",
   "execution_count": 154,
   "id": "62a65b9a",
   "metadata": {},
   "outputs": [
    {
     "data": {
      "text/plain": [
       "(1115, 942)"
      ]
     },
     "execution_count": 154,
     "metadata": {},
     "output_type": "execute_result"
    }
   ],
   "source": [
    "#b.\n",
    "storeSalesMap = {}\n",
    "storeId = 1\n",
    "numStores = len(df_store)\n",
    "\n",
    "for i in range(1, len(df_store) + 1):\n",
    "    storeSalesMap[storeId] = df_sorted[df_sorted['Store'] == i]['Sales'].values\n",
    "    storeId+=1\n",
    "\n",
    "df_storeSalesMap = pd.DataFrame.from_dict(storeSalesMap, orient = 'index')\n",
    "df_storeSalesMap.shape"
   ]
  },
  {
   "cell_type": "code",
   "execution_count": 138,
   "id": "c64909a6",
   "metadata": {},
   "outputs": [
    {
     "name": "stdout",
     "output_type": "stream",
     "text": [
      "xTrain (800, 900)\n",
      "xTest (315, 900)\n",
      "yTrain (800, 42)\n",
      "yTest (315, 42)\n"
     ]
    }
   ],
   "source": [
    "#c.\n",
    "xTrain = df_storeSalesMap.loc[:800, :899]\n",
    "yTrain = df_storeSalesMap.loc[:800, 900:]\n",
    "\n",
    "xTest = df_storeSalesMap.loc[801:, :899]\n",
    "yTest = df_storeSalesMap.loc[801:, 900:]\n",
    "\n",
    "print('xTrain', xTrain.shape)\n",
    "print('xTest', xTest.shape)\n",
    "print('yTrain', yTrain.shape)\n",
    "print('yTest', yTest.shape)"
   ]
  },
  {
   "cell_type": "code",
   "execution_count": 156,
   "id": "7af8aef9",
   "metadata": {},
   "outputs": [
    {
     "name": "stderr",
     "output_type": "stream",
     "text": [
      "<ipython-input-156-8092553cc7c0>:7: FutureWarning: Calling a ufunc on non-aligned DataFrames (or DataFrame/Series combination). Currently, the indices are ignored and the result takes the index/columns of the first DataFrame. In the future , the DataFrames/Series will be aligned before applying the ufunc.\n",
      "Convert one of the arguments to a NumPy array (eg 'ufunc(df1, np.asarray(df2)') to keep the current behaviour, or align manually (eg 'df1, df2 = df1.align(df2)') before passing to the ufunc to obtain the future behaviour and silence this warning.\n",
      "  matA = np.matmul(xTrain.T, xTrain)\n"
     ]
    }
   ],
   "source": [
    "#d.\n",
    "xTrain[np.isnan(xTrain)] = 0\n",
    "xTest[np.isnan(xTest)] = 0\n",
    "yTrain[np.isnan(yTrain)] = 0\n",
    "yTest[np.isnan(yTest)] = 0\n",
    "\n",
    "matA = np.matmul(xTrain.T, xTrain)\n",
    "\n",
    "betaArray = np.zeros((42, 900))\n",
    "for i in range(42):\n",
    "    matB = np.matmul(xTrain.T, yTrain.iloc[:,i])\n",
    "    invMatA = np.linalg.inv(matA)\n",
    "    beta = np.matmul(invMatA, matB)\n",
    "    betaArray[i] = beta\n",
    "    \n"
   ]
  },
  {
   "cell_type": "code",
   "execution_count": 155,
   "id": "523c5336",
   "metadata": {},
   "outputs": [
    {
     "data": {
      "text/plain": [
       "(42, 900)"
      ]
     },
     "execution_count": 155,
     "metadata": {},
     "output_type": "execute_result"
    }
   ],
   "source": [
    "#e.\n",
    "betaArray.shape"
   ]
  }
 ],
 "metadata": {
  "kernelspec": {
   "display_name": "Python 3",
   "language": "python",
   "name": "python3"
  },
  "language_info": {
   "codemirror_mode": {
    "name": "ipython",
    "version": 3
   },
   "file_extension": ".py",
   "mimetype": "text/x-python",
   "name": "python",
   "nbconvert_exporter": "python",
   "pygments_lexer": "ipython3",
   "version": "3.8.8"
  }
 },
 "nbformat": 4,
 "nbformat_minor": 5
}
